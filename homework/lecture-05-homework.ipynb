{
 "cells": [
  {
   "cell_type": "markdown",
   "metadata": {
    "colab_type": "text",
    "id": "7peuK1nXRgD6"
   },
   "source": [
    "# KF Homework: Constructing KF Parameters\n",
    "\n",
    "To find the questions, search for triple-bangs \"**!!!**\""
   ]
  },
  {
   "cell_type": "markdown",
   "metadata": {
    "colab_type": "text",
    "id": "IpnE7etbMvO2"
   },
   "source": [
    "\n",
    "\n",
    "## The Coupled Spring Oscillators\n",
    "\n",
    "### Constructing a discrete time motion model\n",
    "\n",
    "Consider a mass attached to a wall on the left by a spring, a second mass attached to a wall on the right by a spring, and a spring running between the two masses; for example, see [this picture](https://commons.wikimedia.org/wiki/File:Coupled_Harmonic_Oscillator.svg).\n",
    "\n",
    "Ignoring friction, we can model this system with the following ordinary differential equations (ODEs):\n",
    "$$\n",
    "  \\begin{aligned}\n",
    "    \\ddot x_1(t) &= -(k_1 + k_m) x_1(t) + k_m x_2(t) \\\\\n",
    "    \\ddot x_2(t) &= k_m x_1(t) - (k_2 + k_m) x_2(t)\n",
    "  \\end{aligned}\n",
    "$$\n",
    "where\n",
    "* $x_1(t)$ and $x_2(t)$ are the displacement of mass 1 and mass 2 respectively from their equilibrium locations as a function of time.\n",
    "* $\\dot x(t)$ is shorthand for the first derivative of $x(t)$ with respect to time $t$, and $\\ddot x(t)$ is shorthand for the second derivative of $x(t)$ with respect to time $t$.\n",
    "* We have assumed that the masses have unit mass to normalize the equations.\n",
    "* $k_1$, $k_2$ and $k_m$ are the spring constants of the springs attaching mass 1 to the wall, mass 2 to the wall and mass 1 to mass 2 respectively.\n",
    "\n",
    "We can convert these two second order ODEs into four first order ODEs by adding two more states $v_1(t)$ and $v_2(t)$ which are the velocities of mass 1 and mass 2 respectively:\n",
    "$$\n",
    "  \\begin{aligned}\n",
    "    \\dot x_1(t) &= v_1(t) \\\\\n",
    "    \\dot v_1(t) &= -(k_1 + k_m) x_1(t) + k_m x_2(t)\\\\\n",
    "    \\dot x_2(t) &= v_2(t) \\\\\n",
    "    \\dot v_2(t) &= k_m x_1(t) - (k_2 + k_m) x_2(t)\n",
    "  \\end{aligned}\n",
    "$$\n",
    "\n",
    "We can then convert this ODE into a discrete time approximation by using the [Forward Euler](https://en.wikipedia.org/wiki/Euler_method) method:\n",
    "$$\n",
    "  \\begin{aligned}\n",
    "    x_1(t+h) &= x_1(t) + h v_1(t) \\\\\n",
    "    v_1(t+h) &= v_1(t) - h(k_1 + k_m) x_1(t) + h k_m x_2(t) \\\\\n",
    "    x_2(t+h) &= x_2(t) + h v_2(t) \\\\\n",
    "    v_2(t+h) &= v_2(t) + h k_m x_1(t) - h (k_2 + k_m) x_2(t)\n",
    "  \\end{aligned}\n",
    "$$\n",
    "where $h$ is the time step size.\n",
    "\n",
    "Of course, such an equation is inevitably an inaccurate model of the real world since we have ignored effects like friction or errors in the model parameters (the masses of the two oscillators, $k_1$, $k_2$ and $k_m$ in this case).  We often account for such inaccuracies by adding a noise term to our model.\n",
    "\n",
    "Following the notation from these [Kalman filter slides](http://probabilistic-robotics.informatik.uni-freiburg.de/ppt/kalman.ppt), define a state vector $\\bar x = \\begin{bmatrix} x_1 & v_1 & x_2 & v_2 \\end{bmatrix}^T$.  After adding noise, the motion model above can be written as \n",
    "$$\n",
    "  \\bar x(t+1) = A \\bar x(t) + B u(t) + h \\epsilon\n",
    "$$\n",
    "Assume that $\\epsilon$ is drawn from a normal distribution with mean 0 and variance $\\sigma^2_m$."
   ]
  },
  {
   "cell_type": "markdown",
   "metadata": {
    "colab_type": "text",
    "id": "0SmInBS2Rd5-"
   },
   "source": [
    "### Constructing the KF motion parameters\n",
    "\n",
    "**!!!** Write out the KF parameters for this motion model (in mathematical notation).  These parameters will depend on $k_1$, $k_2$, $k_m$ and $h$.  Each parameter should receive a bullet point which describes the role of that parameter in the model; for example, \"motion noise\".\n",
    "\n",
    "You may write an $n \\times n$ identity matrix as $I_n$.\n",
    "\n",
    "* State transition matrix:\n",
    "  $$\n",
    "    A = \n",
    "      \\begin{bmatrix}\n",
    "        1 & h & 0 & 0 \\\\\n",
    "        -h(k_1 + k_m) & 1 & hk_m & 0 \\\\\n",
    "        0 & 0 & 1 & h \\\\\n",
    "        hk_m & 0 & -h(k_2 + k_m) & 1\n",
    "      \\end{bmatrix}\n",
    "  $$\n",
    "* Control matrix:\n",
    "  $$\n",
    "    B =\n",
    "      \\begin{bmatrix}\n",
    "        0 & 0 \\\\\n",
    "        0 & 0 \\\\\n",
    "        h & 0 \\\\\n",
    "        0 & h\n",
    "      \\end{bmatrix}\n",
    "  $$"
   ]
  },
  {
   "cell_type": "markdown",
   "metadata": {
    "colab_type": "text",
    "id": "8jiDg3c6SEeJ"
   },
   "source": [
    "### Constructing a sensing model and KF sensing parameters\n",
    "\n",
    "**!!!** Assume that we can sense $x_1$ and $x_2$ with additive noise that is Gaussian with mean zero and variance $\\sigma^2_s$.  Write out the KF parameters for this sensing model (in mathematical notation).  These parameters will depend on $\\sigma^2_s$.\n",
    "\n",
    "* Observation matrix:\n",
    "  $$\n",
    "    C =\n",
    "      \\begin{bmatrix}\n",
    "        1 & 0 & 0 & 0\\\\\n",
    "        0 & 0 & 1 & 0\\\\\n",
    "      \\end{bmatrix}\n",
    "  $$\n",
    "\n",
    "* Gaussian noise:\n",
    "  $\\delta(t) \\sim N(0, \\sigma^2_s)$\n",
    "  \n",
    "* Sensing model:\n",
    "  $$\n",
    "    z(t) = C x(t) + \\delta(t)\n",
    "  $$"
   ]
  },
  {
   "cell_type": "markdown",
   "metadata": {},
   "source": [
    "### Implementing the KF\n",
    "\n",
    "**!!!** Implement a KF for the coupled oscillators in the code block below.\n",
    "* Concrete values are provided for the problem parameters.\n",
    "* You will need to simulate the system to provide sensor data.\n",
    "  * So you will track two things: The actual state, and the KF estimate of the state.\n",
    "  * I have provided the code to track the actual state (stored in variable `x`).\n",
    "  * At each step, you will update both according to the motion model (although the KF estimate will include noise).\n",
    "  * At each step, your sensor reading will be the actual state.  In other words, the sensor turns out to be perfect even though we have assumed it is noisy.\n",
    "* Assume that your actual initial condition has mass 1 offset by +1 unit from its equilibrium location, mass 2 at its equilibrium location, and both masses motionless.\n",
    "* Assume that your initial estimated state is both masses at their equilibrium locations and motionless, but your initial estimate admits to large uncertainty (variance $\\sigma^2_i = 10$).\n",
    "* Execute your motion update (prediction) before your sensing (correction).\n"
   ]
  },
  {
   "cell_type": "code",
   "execution_count": 2,
   "metadata": {},
   "outputs": [
    {
     "name": "stdout",
     "output_type": "stream",
     "text": [
      "t =  4.999999999999998\n",
      "x^T =  [[-0.51956609 -0.7439854   0.86292074  1.97959837]]\n",
      "mu^T =  [[0. 0. 0. 0.]]\n",
      "error^T =  [[-0.51956609 -0.7439854   0.86292074  1.97959837]]\n",
      "Sigma = \n",
      " [[10.  0.  0.  0.]\n",
      " [ 0. 10.  0.  0.]\n",
      " [ 0.  0. 10.  0.]\n",
      " [ 0.  0.  0. 10.]]\n",
      "eig(Sigma) =  [10. 10. 10. 10.]\n"
     ]
    }
   ],
   "source": [
    "import numpy as np\n",
    "\n",
    "# Following the recommendation of NumPy, my solution with use np.array() rather than np.matrix(),\n",
    "# and then use the \"@\" operator for matrix multiplication (since \"*\" is elementwise multiplication).\n",
    "\n",
    "# Problem parameters.\n",
    "k1 = 1.0\n",
    "k2 = 1.0\n",
    "km = 1.0\n",
    "sigma2m = 1.0e-2\n",
    "sigma2s = 2.0e-1\n",
    "sigma2i = 10.0\n",
    "\n",
    "# Do you want to see output every timestep?  (Final output is always produced.)\n",
    "viz = False\n",
    "\n",
    "# Timestep.\n",
    "h = 0.1\n",
    "# Maximum simulation time.\n",
    "tmax = 5.0\n",
    "\n",
    "# Any additional parameters you might want to define.\n",
    "I2 = np.identity(2)\n",
    "I4 = np.identity(4)\n",
    "\n",
    "# KF Model parameters\n",
    "A = np.array([[1, h, 0, 0],\n",
    "              [-h*(k1+km), 1, h*km, 0],\n",
    "              [0, 0, 1, h],\n",
    "              [h*km, 0, -h*(k2+km), 1]\n",
    "             ])\n",
    "\n",
    "# Initial conditions.\n",
    "x0 = np.array((( 1, 0, 0, 0 ),)).transpose()\n",
    "mu0 = np.zeros((4, 1))\n",
    "Sigma0 = sigma2i * I4\n",
    "\n",
    "# Initialize the changing variables.\n",
    "x = x0\n",
    "mu = mu0\n",
    "Sigma = Sigma0\n",
    "t = 0\n",
    "\n",
    "# Loop until maximum time.\n",
    "while((tmax - t) > 0.5 * h):\n",
    "\n",
    "    # Time update.\n",
    "    t = t + h\n",
    "\n",
    "    # Motion update of actual state.\n",
    "    x = A @ x\n",
    "    \n",
    "    # Motion update of estimated state.\n",
    "\n",
    "    # Sensor reading.\n",
    "    \n",
    "    # Sensing update of estimated state.\n",
    "    \n",
    "    if viz:\n",
    "        print(\"t = \", t)\n",
    "        print(\"x^T = \", x.transpose())\n",
    "        print(\"error^T = \", (x - mu).transpose())\n",
    "        #print(\"Sigma = \\n\", Sigma)\n",
    "        print(\"eig(Sigma) = \", np.sort(np.linalg.eigvals(Sigma)))\n",
    "        print()\n",
    "\n",
    "print(\"t = \", t)\n",
    "print(\"x^T = \", x.transpose())\n",
    "print(\"mu^T = \", mu.transpose())\n",
    "print(\"error^T = \", (x - mu).transpose())\n",
    "print(\"Sigma = \\n\", Sigma)\n",
    "print(\"eig(Sigma) = \", np.sort(np.linalg.eigvals(Sigma)))\n"
   ]
  },
  {
   "cell_type": "markdown",
   "metadata": {},
   "source": [
    "### The effect of losing a sensor\n",
    "\n",
    "The eigenvalues of the covariance matrix $\\Sigma$ provide the variances of the estimate in a coordinate system defined by the eigenvectors.  In particular, if all eigenvalues of $\\Sigma$ are below some value $\\sigma^2$, then you have localized at $mu$ with variance $\\sigma^2$.  The eigenvalues of a matrix can be found with `np.linalg.eigvals()`.\n",
    "\n",
    "**!!!** Answer the questions below using your code above.  Type your answer after the question mark.  Answers within a factor of two of the correct answer will receive full marks.\n",
    "\n",
    "* What is the maximum variance of your uncertainty in the state of the system at $t = 10$?\n",
    "\n",
    "* Now assume that we are no longer able to sense the position of the second mass.  To compensate, we will use a more accurate sensor on the first mass.  How much more accurate must the sensor be to achieve at least as good a level of localization at $t = 10$ with just the one sensor?  In other words, how much smaller must $\\sigma^2_s$ be?"
   ]
  },
  {
   "cell_type": "markdown",
   "metadata": {
    "colab_type": "text",
    "id": "wAkhqn0VVsy-"
   },
   "source": [
    "## The Kinematic Unicycle\n",
    "\n",
    "An ODE model often used for slow moving ground robots (when inertia is small relative to the available actuation force) is the *kinematic unicycle*:\n",
    "$$\n",
    "  \\begin{aligned}\n",
    "    \\dot x(t) &= v \\cos \\theta(t) \\\\\n",
    "    \\dot y(t) &= v \\sin \\theta(t) \\\\\n",
    "    \\dot \\theta(t) &= \\omega\n",
    "  \\end{aligned}\n",
    "$$\n",
    "where\n",
    "* $x(t)$ and $y(t)$ are the position of the robot in the plane as a function of time.\n",
    "* $\\theta(t)$ is the heading as a function of time.\n",
    "* $v$ and $\\omega$ are the linear and angular velocities of the robot.  For now we will assume that these velocities are constant.\n"
   ]
  },
  {
   "cell_type": "markdown",
   "metadata": {
    "colab_type": "text",
    "id": "MZmYXVbKYQRl"
   },
   "source": [
    "### Discrete time motion model\n",
    "\n",
    "**!!!** Convert the ODE model shown above into a discrete time model using the Forward Euler method with time step $h$.\n",
    "\n"
   ]
  },
  {
   "cell_type": "markdown",
   "metadata": {
    "colab_type": "text",
    "id": "3cmXczo0YiqR"
   },
   "source": [
    "### KF for the unicycle?\n",
    "\n",
    "**!!!** Briefly explain why you cannot use the (basic) Kalman Filter for this model."
   ]
  }
 ],
 "metadata": {
  "colab": {
   "name": "Breakout Starter.ipynb",
   "provenance": []
  },
  "kernelspec": {
   "display_name": "Python 3",
   "language": "python",
   "name": "python3"
  },
  "language_info": {
   "codemirror_mode": {
    "name": "ipython",
    "version": 3
   },
   "file_extension": ".py",
   "mimetype": "text/x-python",
   "name": "python",
   "nbconvert_exporter": "python",
   "pygments_lexer": "ipython3",
   "version": "3.8.5"
  }
 },
 "nbformat": 4,
 "nbformat_minor": 4
}
